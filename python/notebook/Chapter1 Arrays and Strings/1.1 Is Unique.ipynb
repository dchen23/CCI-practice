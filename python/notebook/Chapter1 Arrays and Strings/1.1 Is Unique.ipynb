{
 "cells": [
  {
   "cell_type": "markdown",
   "metadata": {},
   "source": [
    "**Is Unique**: Implement an algorithm to determine if a string has all unique charaters. What if you cannot use additional data structures?"
   ]
  },
  {
   "cell_type": "code",
   "execution_count": 6,
   "metadata": {},
   "outputs": [
    {
     "name": "stderr",
     "output_type": "stream",
     "text": [
      ".\n",
      "----------------------------------------------------------------------\n",
      "Ran 1 test in 0.011s\n",
      "\n",
      "OK\n"
     ]
    }
   ],
   "source": [
    "# O(N)\n",
    "import unittest\n",
    "\n",
    "def unique(string):\n",
    "    if len(string) > 128:\n",
    "        return False\n",
    "    \n",
    "    # 128 is the length of the non-extended ASCII form\n",
    "    char_set = [False for _ in range(128)]\n",
    "    for char in string:\n",
    "        val = ord(char)\n",
    "        if char_set[val]:\n",
    "            # Char already found in string\n",
    "            return False\n",
    "        char_set[val] = True\n",
    "        \n",
    "    return True\n",
    "\n",
    "class Test(unittest.TestCase):\n",
    "    dataT = [('abcd'), ('s4fad'), ('')]\n",
    "    dataF = [('23ds2'), ('hb 627jh=j ()'), ('  ')]\n",
    "    \n",
    "    def test_unique(self):\n",
    "        # true check\n",
    "        for test_string in self.dataT:\n",
    "            actual = unique(test_string)\n",
    "            self.assertTrue(actual)\n",
    "        # false check\n",
    "        for test_string in self.dataF:\n",
    "            actual = unique(test_string)\n",
    "            self.assertFalse(actual)\n",
    "            \n",
    "if __name__ == '__main__':\n",
    "    unittest.main(argv=['first-arg-is-ignored'], exit=False)"
   ]
  },
  {
   "cell_type": "markdown",
   "metadata": {
    "collapsed": true
   },
   "source": [
    "> NOTE: chr() Function with a range of range (256) in the (is 0 ~ 255) integer as a parameter, and returns a corresponding character. unichr() With it, but the return is Unicode character, the Python 2 unichr (joined) the range of parameters depends on your Python is how to be compiled. If it is configured as a USC2 Unicode, then its allowable range is range (65536) or 0x0000-0xFFFF; if the configuration is UCS4, then the value should be range (1114112) or 0x000000-0x110000. If the parameter is not in the allowed range, an exception will offer a ValueError.\n",
    "\n",
    "> ord() The function is Chr () function (for ASCII 8 bit strings) or unichr () function (the Unicode object) of the matching function, which takes a character (character string of length 1) as a parameter, ASCII numerical returns the corresponding Unicode values, or, if the given Unicode character beyond the Python defined range you, an exception will raise a TypeError.\n",
    "\n",
    "> In python 3, there is no unichr(), just use chr()."
   ]
  },
  {
   "cell_type": "code",
   "execution_count": 2,
   "metadata": {},
   "outputs": [
    {
     "data": {
      "text/plain": [
       "'4'"
      ]
     },
     "execution_count": 2,
     "metadata": {},
     "output_type": "execute_result"
    }
   ],
   "source": [
    "chr(52)"
   ]
  },
  {
   "cell_type": "code",
   "execution_count": 3,
   "metadata": {},
   "outputs": [
    {
     "data": {
      "text/plain": [
       "102"
      ]
     },
     "execution_count": 3,
     "metadata": {},
     "output_type": "execute_result"
    }
   ],
   "source": [
    "ord('f')"
   ]
  },
  {
   "cell_type": "code",
   "execution_count": 5,
   "metadata": {},
   "outputs": [
    {
     "data": {
      "text/plain": [
       "'✐'"
      ]
     },
     "execution_count": 5,
     "metadata": {},
     "output_type": "execute_result"
    }
   ],
   "source": [
    "chr(10000)"
   ]
  }
 ],
 "metadata": {
  "kernelspec": {
   "display_name": "Python 3",
   "language": "python",
   "name": "python3"
  },
  "language_info": {
   "codemirror_mode": {
    "name": "ipython",
    "version": 3
   },
   "file_extension": ".py",
   "mimetype": "text/x-python",
   "name": "python",
   "nbconvert_exporter": "python",
   "pygments_lexer": "ipython3",
   "version": "3.6.3"
  }
 },
 "nbformat": 4,
 "nbformat_minor": 2
}
