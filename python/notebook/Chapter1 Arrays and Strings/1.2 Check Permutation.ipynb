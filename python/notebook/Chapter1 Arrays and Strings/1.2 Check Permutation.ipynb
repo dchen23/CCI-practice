{
 "cells": [
  {
   "cell_type": "markdown",
   "metadata": {
    "collapsed": true
   },
   "source": [
    "**Check Permutation**: Given two Strings, wrtie a method to decide if one is permutation of the other."
   ]
  },
  {
   "cell_type": "code",
   "execution_count": 5,
   "metadata": {},
   "outputs": [
    {
     "name": "stderr",
     "output_type": "stream",
     "text": [
      ".\n",
      "----------------------------------------------------------------------\n",
      "Ran 1 test in 0.082s\n",
      "\n",
      "OK\n"
     ]
    }
   ],
   "source": [
    "# O(N)\n",
    "import unittest\n",
    "from collections import Counter\n",
    "\n",
    "\n",
    "def check_permutation(str1, str2):\n",
    "    if len(str1) != len(str2):\n",
    "        return False\n",
    "#     counter = Counter()\n",
    "#     for c in str1:\n",
    "#         counter[c] += 1\n",
    "    counter = Counter(str1)\n",
    "    for c in str2:\n",
    "        if counter[c] == 0:\n",
    "            return False\n",
    "        counter[c] -= 1\n",
    "    return True\n",
    "\n",
    "\n",
    "class Test(unittest.TestCase):\n",
    "    dataT = (\n",
    "        ('abcd', 'bacd'),\n",
    "        ('3563476', '7334566'),\n",
    "        ('wef34f', 'wffe34'),\n",
    "    )\n",
    "    dataF = (\n",
    "        ('abcd', 'd2cba'),\n",
    "        ('2354', '1234'),\n",
    "        ('dcw4f', 'dcw5f'),\n",
    "    )\n",
    "\n",
    "    def test_cp(self):\n",
    "        # true check\n",
    "        for test_strings in self.dataT:\n",
    "            result = check_permutation(*test_strings)\n",
    "            self.assertTrue(result)\n",
    "        # false check\n",
    "        for test_strings in self.dataF:\n",
    "            result = check_permutation(*test_strings)\n",
    "            self.assertFalse(result)\n",
    "\n",
    "\n",
    "if __name__ == \"__main__\":\n",
    "    unittest.main(argv=[\"ignored\"], exit=False)\n"
   ]
  },
  {
   "cell_type": "markdown",
   "metadata": {},
   "source": [
    "> Python Counter 模块"
   ]
  }
 ],
 "metadata": {
  "kernelspec": {
   "display_name": "Python 3",
   "language": "python",
   "name": "python3"
  },
  "language_info": {
   "codemirror_mode": {
    "name": "ipython",
    "version": 3
   },
   "file_extension": ".py",
   "mimetype": "text/x-python",
   "name": "python",
   "nbconvert_exporter": "python",
   "pygments_lexer": "ipython3",
   "version": "3.6.3"
  }
 },
 "nbformat": 4,
 "nbformat_minor": 2
}
